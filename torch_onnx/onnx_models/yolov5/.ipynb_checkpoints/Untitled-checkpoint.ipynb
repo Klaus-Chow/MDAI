{
 "cells": [
  {
   "cell_type": "code",
   "execution_count": 3,
   "metadata": {},
   "outputs": [
    {
     "ename": "TypeError",
     "evalue": "compile_model(): incompatible function arguments. The following argument types are supported:\n    1. (self: openvino.pyopenvino.Core, model: openvino.pyopenvino.Model, device_name: str, config: Dict[str, str] = {}) -> ov::CompiledModel\n    2. (self: openvino.pyopenvino.Core, model: openvino.pyopenvino.Model, config: Dict[str, str] = {}) -> ov::CompiledModel\n    3. (self: openvino.pyopenvino.Core, model_path: str, device_name: str, properties: Dict[str, str] = {}) -> ov::CompiledModel\n    4. (self: openvino.pyopenvino.Core, model_path: str, config: Dict[str, str] = {}) -> ov::CompiledModel\n\nInvoked with: <openvino.runtime.ie_api.Core object at 0x7f7b03bfbeb8>, <Model: 'torch-jit-export'\ninputs[\n<ConstOutput: names[images] shape{?,3,?,?} type: f32>\n]\noutputs[\n<ConstOutput: names[output] shape{?,3,?,?,6} type: f32>,\n<ConstOutput: names[417] shape{?,3,?,?,6} type: f32>,\n<ConstOutput: names[437] shape{?,3,?,?,6} type: f32>\n]>, 'CPU', {'PERFORMANCE_HINT': 'LATENCY', 'CPU_RUNTIME_CACHE_CAPACITY': 0}",
     "output_type": "error",
     "traceback": [
      "\u001b[0;31m---------------------------------------------------------------------------\u001b[0m",
      "\u001b[0;31mTypeError\u001b[0m                                 Traceback (most recent call last)",
      "\u001b[0;32m<ipython-input-3-a9d912a57a84>\u001b[0m in \u001b[0;36m<module>\u001b[0;34m()\u001b[0m\n\u001b[1;32m      5\u001b[0m \u001b[0mmodel_dir\u001b[0m \u001b[0;34m=\u001b[0m \u001b[0;34m\"./best_dynamic.onnx\"\u001b[0m\u001b[0;34m\u001b[0m\u001b[0;34m\u001b[0m\u001b[0m\n\u001b[1;32m      6\u001b[0m \u001b[0mmI\u001b[0m \u001b[0;34m=\u001b[0m \u001b[0mInfer\u001b[0m\u001b[0;34m.\u001b[0m\u001b[0mmodelInfer\u001b[0m\u001b[0;34m(\u001b[0m\u001b[0;34m)\u001b[0m\u001b[0;34m\u001b[0m\u001b[0;34m\u001b[0m\u001b[0m\n\u001b[0;32m----> 7\u001b[0;31m \u001b[0mmI\u001b[0m\u001b[0;34m.\u001b[0m\u001b[0mload_model\u001b[0m\u001b[0;34m(\u001b[0m\u001b[0mmodel_dir\u001b[0m\u001b[0;34m)\u001b[0m\u001b[0;34m\u001b[0m\u001b[0;34m\u001b[0m\u001b[0m\n\u001b[0m\u001b[1;32m      8\u001b[0m \u001b[0mpreds\u001b[0m \u001b[0;34m=\u001b[0m \u001b[0mmI\u001b[0m\u001b[0;34m.\u001b[0m\u001b[0minfer\u001b[0m\u001b[0;34m(\u001b[0m\u001b[0mimage\u001b[0m\u001b[0;34m)\u001b[0m\u001b[0;34m\u001b[0m\u001b[0;34m\u001b[0m\u001b[0m\n\u001b[1;32m      9\u001b[0m \u001b[0;32mfor\u001b[0m \u001b[0mi\u001b[0m \u001b[0;32min\u001b[0m \u001b[0mrange\u001b[0m\u001b[0;34m(\u001b[0m\u001b[0mlen\u001b[0m\u001b[0;34m(\u001b[0m\u001b[0mpreds\u001b[0m\u001b[0;34m)\u001b[0m\u001b[0;34m)\u001b[0m\u001b[0;34m:\u001b[0m\u001b[0;34m\u001b[0m\u001b[0;34m\u001b[0m\u001b[0m\n",
      "\u001b[0;32m~/.local/lib/python3.6/site-packages/Infer.py\u001b[0m in \u001b[0;36mload_model\u001b[0;34m(self, model_dir, IR_config)\u001b[0m\n\u001b[1;32m      7\u001b[0m         \u001b[0mie\u001b[0m \u001b[0;34m=\u001b[0m \u001b[0mCore\u001b[0m\u001b[0;34m(\u001b[0m\u001b[0;34m)\u001b[0m\u001b[0;34m\u001b[0m\u001b[0;34m\u001b[0m\u001b[0m\n\u001b[1;32m      8\u001b[0m         \u001b[0mmodel_ir\u001b[0m \u001b[0;34m=\u001b[0m \u001b[0mie\u001b[0m\u001b[0;34m.\u001b[0m\u001b[0mread_model\u001b[0m\u001b[0;34m(\u001b[0m\u001b[0mmodel\u001b[0m\u001b[0;34m=\u001b[0m\u001b[0mmodel_dir\u001b[0m\u001b[0;34m)\u001b[0m\u001b[0;34m\u001b[0m\u001b[0;34m\u001b[0m\u001b[0m\n\u001b[0;32m----> 9\u001b[0;31m         \u001b[0mself\u001b[0m\u001b[0;34m.\u001b[0m\u001b[0mcompiled_model_ir\u001b[0m \u001b[0;34m=\u001b[0m \u001b[0mie\u001b[0m\u001b[0;34m.\u001b[0m\u001b[0mcompile_model\u001b[0m\u001b[0;34m(\u001b[0m\u001b[0mmodel\u001b[0m\u001b[0;34m=\u001b[0m\u001b[0mmodel_ir\u001b[0m\u001b[0;34m,\u001b[0m \u001b[0mdevice_name\u001b[0m\u001b[0;34m=\u001b[0m\u001b[0mIR_config\u001b[0m\u001b[0;34m[\u001b[0m\u001b[0;34m\"device_name\"\u001b[0m\u001b[0;34m]\u001b[0m\u001b[0;34m,\u001b[0m \u001b[0mconfig\u001b[0m\u001b[0;34m=\u001b[0m\u001b[0mIR_config\u001b[0m\u001b[0;34m[\u001b[0m\u001b[0;34m\"config\"\u001b[0m\u001b[0;34m]\u001b[0m\u001b[0;34m)\u001b[0m\u001b[0;34m\u001b[0m\u001b[0;34m\u001b[0m\u001b[0m\n\u001b[0m\u001b[1;32m     10\u001b[0m         \u001b[0mself\u001b[0m\u001b[0;34m.\u001b[0m\u001b[0minfer_request\u001b[0m \u001b[0;34m=\u001b[0m \u001b[0mself\u001b[0m\u001b[0;34m.\u001b[0m\u001b[0mcompiled_model_ir\u001b[0m\u001b[0;34m.\u001b[0m\u001b[0mcreate_infer_request\u001b[0m\u001b[0;34m(\u001b[0m\u001b[0;34m)\u001b[0m\u001b[0;34m\u001b[0m\u001b[0;34m\u001b[0m\u001b[0m\n\u001b[1;32m     11\u001b[0m \u001b[0;34m\u001b[0m\u001b[0m\n",
      "\u001b[0;32m~/.local/lib/python3.6/site-packages/openvino/runtime/ie_api.py\u001b[0m in \u001b[0;36mcompile_model\u001b[0;34m(self, model, device_name, config)\u001b[0m\n\u001b[1;32m    264\u001b[0m \u001b[0;34m\u001b[0m\u001b[0m\n\u001b[1;32m    265\u001b[0m         return CompiledModel(\n\u001b[0;32m--> 266\u001b[0;31m             \u001b[0msuper\u001b[0m\u001b[0;34m(\u001b[0m\u001b[0;34m)\u001b[0m\u001b[0;34m.\u001b[0m\u001b[0mcompile_model\u001b[0m\u001b[0;34m(\u001b[0m\u001b[0mmodel\u001b[0m\u001b[0;34m,\u001b[0m \u001b[0mdevice_name\u001b[0m\u001b[0;34m,\u001b[0m \u001b[0;34m{\u001b[0m\u001b[0;34m}\u001b[0m \u001b[0;32mif\u001b[0m \u001b[0mconfig\u001b[0m \u001b[0;32mis\u001b[0m \u001b[0;32mNone\u001b[0m \u001b[0;32melse\u001b[0m \u001b[0mconfig\u001b[0m\u001b[0;34m)\u001b[0m\u001b[0;34m\u001b[0m\u001b[0;34m\u001b[0m\u001b[0m\n\u001b[0m\u001b[1;32m    267\u001b[0m         )\n\u001b[1;32m    268\u001b[0m \u001b[0;34m\u001b[0m\u001b[0m\n",
      "\u001b[0;31mTypeError\u001b[0m: compile_model(): incompatible function arguments. The following argument types are supported:\n    1. (self: openvino.pyopenvino.Core, model: openvino.pyopenvino.Model, device_name: str, config: Dict[str, str] = {}) -> ov::CompiledModel\n    2. (self: openvino.pyopenvino.Core, model: openvino.pyopenvino.Model, config: Dict[str, str] = {}) -> ov::CompiledModel\n    3. (self: openvino.pyopenvino.Core, model_path: str, device_name: str, properties: Dict[str, str] = {}) -> ov::CompiledModel\n    4. (self: openvino.pyopenvino.Core, model_path: str, config: Dict[str, str] = {}) -> ov::CompiledModel\n\nInvoked with: <openvino.runtime.ie_api.Core object at 0x7f7b03bfbeb8>, <Model: 'torch-jit-export'\ninputs[\n<ConstOutput: names[images] shape{?,3,?,?} type: f32>\n]\noutputs[\n<ConstOutput: names[output] shape{?,3,?,?,6} type: f32>,\n<ConstOutput: names[417] shape{?,3,?,?,6} type: f32>,\n<ConstOutput: names[437] shape{?,3,?,?,6} type: f32>\n]>, 'CPU', {'PERFORMANCE_HINT': 'LATENCY', 'CPU_RUNTIME_CACHE_CAPACITY': 0}"
     ]
    }
   ],
   "source": [
    "import Infer\n",
    "import torch\n",
    "\n",
    "image = torch.rand([1,3,640,640])\n",
    "model_dir = \"./yolov5.onnx\"\n",
    "mI = Infer.modelInfer()\n",
    "mI.load_model(model_dir)\n",
    "preds = mI.infer(image)\n",
    "for i in range(len(preds)):\n",
    "    print(preds[i].shape)"
   ]
  },
  {
   "cell_type": "code",
   "execution_count": null,
   "metadata": {},
   "outputs": [],
   "source": []
  }
 ],
 "metadata": {
  "kernelspec": {
   "display_name": "Python 3",
   "language": "python",
   "name": "python3"
  },
  "language_info": {
   "codemirror_mode": {
    "name": "ipython",
    "version": 3
   },
   "file_extension": ".py",
   "mimetype": "text/x-python",
   "name": "python",
   "nbconvert_exporter": "python",
   "pygments_lexer": "ipython3",
   "version": "3.6.7"
  }
 },
 "nbformat": 4,
 "nbformat_minor": 2
}
