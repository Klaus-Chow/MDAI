{
 "cells": [
  {
   "cell_type": "code",
   "execution_count": 12,
   "metadata": {},
   "outputs": [
    {
     "name": "stdout",
     "output_type": "stream",
     "text": [
      "(1, 25200, 13)\n",
      "(1, 3, 80, 80, 13)\n",
      "(1, 3, 40, 40, 13)\n",
      "(1, 3, 20, 20, 13)\n"
     ]
    }
   ],
   "source": [
    "import CPUInfer\n",
    "import torch\n",
    "\n",
    "image = torch.rand([1,3,640,640])\n",
    "model_dir = \"./best-lite_static_grid_sim.onnx\"\n",
    "mI = CPUInfer.modelInfer()\n",
    "mI.load_model(model_dir)\n",
    "preds = mI.infer(image)\n",
    "for i in range(len(preds)):\n",
    "    print(preds[i].shape)"
   ]
  }
 ],
 "metadata": {
  "kernelspec": {
   "display_name": "Python 3",
   "language": "python",
   "name": "python3"
  },
  "language_info": {
   "codemirror_mode": {
    "name": "ipython",
    "version": 3
   },
   "file_extension": ".py",
   "mimetype": "text/x-python",
   "name": "python",
   "nbconvert_exporter": "python",
   "pygments_lexer": "ipython3",
   "version": "3.6.7"
  }
 },
 "nbformat": 4,
 "nbformat_minor": 2
}
